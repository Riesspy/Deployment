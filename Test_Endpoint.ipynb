{
  "cells": [
    {
      "cell_type": "markdown",
      "metadata": {
        "id": "qRchVD-kZ8r5"
      },
      "source": [
        "# Test your endpoint\n",
        "\n",
        "This notebook present some tests to assert your endpoint. Feel free to complete those tests."
      ]
    },
    {
      "cell_type": "code",
      "execution_count": 1,
      "metadata": {
        "id": "ME359a9EZ8r_"
      },
      "outputs": [],
      "source": [
        "import requests"
      ]
    },
    {
      "cell_type": "code",
      "execution_count": 5,
      "metadata": {
        "id": "4RzEjmLrZ8sD"
      },
      "outputs": [],
      "source": [
        "# We have put the localhost URL as default, feel free to change it\n",
        "url = \"https://whitewinee.herokuapp.com/predict\""
      ]
    },
    {
      "cell_type": "code",
      "execution_count": 6,
      "metadata": {
        "id": "jAXEmqfSZ8sE"
      },
      "outputs": [],
      "source": [
        "# This a simple example of input\n",
        "input_simple = {\n",
        "    \"input\": [[7.0, 0.27, 0.36, 20.7, 0.045, 45.0, 170.0, 1.001, 3.0, 0.45, 8.8]]\n",
        "}"
      ]
    },
    {
      "cell_type": "code",
      "execution_count": 7,
      "metadata": {
        "colab": {
          "base_uri": "https://localhost:8080/"
        },
        "id": "X5xaDyIIZ8sF",
        "outputId": "283b51a0-c0b3-44a8-9efc-a414971f2d56"
      },
      "outputs": [
        {
          "output_type": "stream",
          "name": "stdout",
          "text": [
            "{'predict': [6]}\n"
          ]
        }
      ],
      "source": [
        "res = requests.post(url, json=input_simple)\n",
        "assert res.status_code == 200\n",
        "print(res.json())"
      ]
    },
    {
      "cell_type": "code",
      "execution_count": 8,
      "metadata": {
        "id": "FpoUNNciZ8sI"
      },
      "outputs": [],
      "source": [
        "# This a example of input with several inputs\n",
        "input_multiple = {\n",
        "    \"input\": [[7.0, 0.27, 0.36, 20.7, 0.045, 45.0, 170.0, 1.001, 3.0, 0.45, 8.8],\n",
        "              [5.0, 0.98, 0.32, 18.9, 0.050, 75.0, 122.0, 0.401, 3.1, 0.21, 1.2]]\n",
        "}"
      ]
    },
    {
      "cell_type": "code",
      "execution_count": 9,
      "metadata": {
        "colab": {
          "base_uri": "https://localhost:8080/"
        },
        "id": "9oe8Lj7KZ8sJ",
        "outputId": "cbd00af1-31e9-4a85-b9e1-822a27334a2b"
      },
      "outputs": [
        {
          "output_type": "stream",
          "name": "stdout",
          "text": [
            "{'predict': [6, 5]}\n"
          ]
        }
      ],
      "source": [
        "res = requests.post(url, json=input_multiple)\n",
        "assert res.status_code == 200\n",
        "print(res.json())"
      ]
    }
  ],
  "metadata": {
    "kernelspec": {
      "display_name": "Python 3",
      "language": "python",
      "name": "python3"
    },
    "language_info": {
      "codemirror_mode": {
        "name": "ipython",
        "version": 3
      },
      "file_extension": ".py",
      "mimetype": "text/x-python",
      "name": "python",
      "nbconvert_exporter": "python",
      "pygments_lexer": "ipython3",
      "version": "3.8.5"
    },
    "colab": {
      "name": "Test_Endpoint.ipynb",
      "provenance": []
    }
  },
  "nbformat": 4,
  "nbformat_minor": 0
}